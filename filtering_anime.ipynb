{
 "cells": [
  {
   "cell_type": "code",
   "id": "initial_id",
   "metadata": {
    "collapsed": true,
    "ExecuteTime": {
     "end_time": "2024-08-04T07:11:13.312243Z",
     "start_time": "2024-08-04T07:11:12.431059Z"
    }
   },
   "source": [
    "import pandas as pd \n",
    "import ast\n",
    "pd.set_option('display.max_rows', None)"
   ],
   "outputs": [],
   "execution_count": 2
  },
  {
   "metadata": {
    "ExecuteTime": {
     "end_time": "2024-08-04T07:11:14.229132Z",
     "start_time": "2024-08-04T07:11:14.169301Z"
    }
   },
   "cell_type": "code",
   "source": [
    "animes=pd.read_csv('Data_csv/animes.csv')\n",
    "credits=pd.read_csv('Data_csv/credits.csv')"
   ],
   "id": "98a589258cefce1b",
   "outputs": [],
   "execution_count": 3
  },
  {
   "metadata": {
    "ExecuteTime": {
     "end_time": "2024-08-04T07:11:15.089935Z",
     "start_time": "2024-08-04T07:11:15.064193Z"
    }
   },
   "cell_type": "code",
   "source": [
    "credits=pd.DataFrame(credits)\n",
    "animes.head(5)"
   ],
   "id": "31b4aecc8c529925",
   "outputs": [
    {
     "data": {
      "text/plain": [
       "        id                      title  type  \\\n",
       "0  ts21930            Lupin the Third  SHOW   \n",
       "1  ts25177         Mobile Suit Gundam  SHOW   \n",
       "2  ts35087         Galaxy Express 999  SHOW   \n",
       "3  ts82387              Lupin the 3rd  SHOW   \n",
       "4   ts2846  Chōdenji Machine Voltes V  SHOW   \n",
       "\n",
       "                                         description  release_year  \\\n",
       "0  Arsene Lupin III is the grandson of the master...          1971   \n",
       "1  Mobile Suit Gundam is a televised anime series...          1979   \n",
       "2  Galaxy Express 999 is a manga written and draw...          1978   \n",
       "3  The master thief Lupin III and his cronies con...          1977   \n",
       "4  Chōdenji Machine Voltes V is a Japanese anime ...          1977   \n",
       "\n",
       "  age_certification  runtime  \\\n",
       "0             TV-14       23   \n",
       "1             TV-Y7       25   \n",
       "2             TV-PG       24   \n",
       "3             TV-14       24   \n",
       "4             TV-PG       24   \n",
       "\n",
       "                                              genres production_countries  \\\n",
       "0  ['scifi', 'animation', 'action', 'comedy', 'cr...               ['JP']   \n",
       "1  ['scifi', 'war', 'animation', 'action', 'drama...               ['JP']   \n",
       "2          ['scifi', 'action', 'drama', 'animation']               ['JP']   \n",
       "3  ['scifi', 'animation', 'action', 'comedy', 'cr...               ['JP']   \n",
       "4          ['drama', 'action', 'scifi', 'animation']               ['JP']   \n",
       "\n",
       "   seasons    imdb_id  imdb_score  imdb_votes  tmdb_popularity  tmdb_score  \n",
       "0      6.0  tt0159175         7.9      2116.0           45.829         8.0  \n",
       "1      1.0  tt0159172         7.9      2281.0           41.250         8.1  \n",
       "2      1.0  tt0185066         7.8       459.0            5.064         8.3  \n",
       "3      4.0  tt0159192         8.0      1738.0            0.600         NaN  \n",
       "4      1.0  tt0159855         8.1       207.0           12.625         7.3  "
      ],
      "text/html": [
       "<div>\n",
       "<style scoped>\n",
       "    .dataframe tbody tr th:only-of-type {\n",
       "        vertical-align: middle;\n",
       "    }\n",
       "\n",
       "    .dataframe tbody tr th {\n",
       "        vertical-align: top;\n",
       "    }\n",
       "\n",
       "    .dataframe thead th {\n",
       "        text-align: right;\n",
       "    }\n",
       "</style>\n",
       "<table border=\"1\" class=\"dataframe\">\n",
       "  <thead>\n",
       "    <tr style=\"text-align: right;\">\n",
       "      <th></th>\n",
       "      <th>id</th>\n",
       "      <th>title</th>\n",
       "      <th>type</th>\n",
       "      <th>description</th>\n",
       "      <th>release_year</th>\n",
       "      <th>age_certification</th>\n",
       "      <th>runtime</th>\n",
       "      <th>genres</th>\n",
       "      <th>production_countries</th>\n",
       "      <th>seasons</th>\n",
       "      <th>imdb_id</th>\n",
       "      <th>imdb_score</th>\n",
       "      <th>imdb_votes</th>\n",
       "      <th>tmdb_popularity</th>\n",
       "      <th>tmdb_score</th>\n",
       "    </tr>\n",
       "  </thead>\n",
       "  <tbody>\n",
       "    <tr>\n",
       "      <th>0</th>\n",
       "      <td>ts21930</td>\n",
       "      <td>Lupin the Third</td>\n",
       "      <td>SHOW</td>\n",
       "      <td>Arsene Lupin III is the grandson of the master...</td>\n",
       "      <td>1971</td>\n",
       "      <td>TV-14</td>\n",
       "      <td>23</td>\n",
       "      <td>['scifi', 'animation', 'action', 'comedy', 'cr...</td>\n",
       "      <td>['JP']</td>\n",
       "      <td>6.0</td>\n",
       "      <td>tt0159175</td>\n",
       "      <td>7.9</td>\n",
       "      <td>2116.0</td>\n",
       "      <td>45.829</td>\n",
       "      <td>8.0</td>\n",
       "    </tr>\n",
       "    <tr>\n",
       "      <th>1</th>\n",
       "      <td>ts25177</td>\n",
       "      <td>Mobile Suit Gundam</td>\n",
       "      <td>SHOW</td>\n",
       "      <td>Mobile Suit Gundam is a televised anime series...</td>\n",
       "      <td>1979</td>\n",
       "      <td>TV-Y7</td>\n",
       "      <td>25</td>\n",
       "      <td>['scifi', 'war', 'animation', 'action', 'drama...</td>\n",
       "      <td>['JP']</td>\n",
       "      <td>1.0</td>\n",
       "      <td>tt0159172</td>\n",
       "      <td>7.9</td>\n",
       "      <td>2281.0</td>\n",
       "      <td>41.250</td>\n",
       "      <td>8.1</td>\n",
       "    </tr>\n",
       "    <tr>\n",
       "      <th>2</th>\n",
       "      <td>ts35087</td>\n",
       "      <td>Galaxy Express 999</td>\n",
       "      <td>SHOW</td>\n",
       "      <td>Galaxy Express 999 is a manga written and draw...</td>\n",
       "      <td>1978</td>\n",
       "      <td>TV-PG</td>\n",
       "      <td>24</td>\n",
       "      <td>['scifi', 'action', 'drama', 'animation']</td>\n",
       "      <td>['JP']</td>\n",
       "      <td>1.0</td>\n",
       "      <td>tt0185066</td>\n",
       "      <td>7.8</td>\n",
       "      <td>459.0</td>\n",
       "      <td>5.064</td>\n",
       "      <td>8.3</td>\n",
       "    </tr>\n",
       "    <tr>\n",
       "      <th>3</th>\n",
       "      <td>ts82387</td>\n",
       "      <td>Lupin the 3rd</td>\n",
       "      <td>SHOW</td>\n",
       "      <td>The master thief Lupin III and his cronies con...</td>\n",
       "      <td>1977</td>\n",
       "      <td>TV-14</td>\n",
       "      <td>24</td>\n",
       "      <td>['scifi', 'animation', 'action', 'comedy', 'cr...</td>\n",
       "      <td>['JP']</td>\n",
       "      <td>4.0</td>\n",
       "      <td>tt0159192</td>\n",
       "      <td>8.0</td>\n",
       "      <td>1738.0</td>\n",
       "      <td>0.600</td>\n",
       "      <td>NaN</td>\n",
       "    </tr>\n",
       "    <tr>\n",
       "      <th>4</th>\n",
       "      <td>ts2846</td>\n",
       "      <td>Chōdenji Machine Voltes V</td>\n",
       "      <td>SHOW</td>\n",
       "      <td>Chōdenji Machine Voltes V is a Japanese anime ...</td>\n",
       "      <td>1977</td>\n",
       "      <td>TV-PG</td>\n",
       "      <td>24</td>\n",
       "      <td>['drama', 'action', 'scifi', 'animation']</td>\n",
       "      <td>['JP']</td>\n",
       "      <td>1.0</td>\n",
       "      <td>tt0159855</td>\n",
       "      <td>8.1</td>\n",
       "      <td>207.0</td>\n",
       "      <td>12.625</td>\n",
       "      <td>7.3</td>\n",
       "    </tr>\n",
       "  </tbody>\n",
       "</table>\n",
       "</div>"
      ]
     },
     "execution_count": 4,
     "metadata": {},
     "output_type": "execute_result"
    }
   ],
   "execution_count": 4
  },
  {
   "metadata": {
    "ExecuteTime": {
     "end_time": "2024-08-04T07:11:15.352049Z",
     "start_time": "2024-08-04T07:11:15.341502Z"
    }
   },
   "cell_type": "code",
   "source": "credits.head(5)\n",
   "id": "e347420e0822ffbe",
   "outputs": [
    {
     "data": {
      "text/plain": [
       "   person_id       id              name                character   role  \\\n",
       "0     110613  ts21930    Kanichi Kurita     Lupin Sansei (voice)  ACTOR   \n",
       "1      11377  ts21930  Daisuke Namikawa  Ishikawa Goemon (voice)  ACTOR   \n",
       "2        452  ts21930  Miyuki Sawashiro      Mine Fujiko (voice)  ACTOR   \n",
       "3        348  ts21930       Akio Otsuka    Daisuke Jigen (voice)  ACTOR   \n",
       "4      22311  ts21930   Koichi Yamadera         Zenigata (voice)  ACTOR   \n",
       "\n",
       "                       title  type age_certification age_certification.1  \n",
       "0            Lupin the Third  SHOW             TV-14               TV-14  \n",
       "1         Mobile Suit Gundam  SHOW             TV-Y7               TV-Y7  \n",
       "2         Galaxy Express 999  SHOW             TV-PG               TV-PG  \n",
       "3              Lupin the 3rd  SHOW             TV-14               TV-14  \n",
       "4  Chōdenji Machine Voltes V  SHOW             TV-PG               TV-PG  "
      ],
      "text/html": [
       "<div>\n",
       "<style scoped>\n",
       "    .dataframe tbody tr th:only-of-type {\n",
       "        vertical-align: middle;\n",
       "    }\n",
       "\n",
       "    .dataframe tbody tr th {\n",
       "        vertical-align: top;\n",
       "    }\n",
       "\n",
       "    .dataframe thead th {\n",
       "        text-align: right;\n",
       "    }\n",
       "</style>\n",
       "<table border=\"1\" class=\"dataframe\">\n",
       "  <thead>\n",
       "    <tr style=\"text-align: right;\">\n",
       "      <th></th>\n",
       "      <th>person_id</th>\n",
       "      <th>id</th>\n",
       "      <th>name</th>\n",
       "      <th>character</th>\n",
       "      <th>role</th>\n",
       "      <th>title</th>\n",
       "      <th>type</th>\n",
       "      <th>age_certification</th>\n",
       "      <th>age_certification.1</th>\n",
       "    </tr>\n",
       "  </thead>\n",
       "  <tbody>\n",
       "    <tr>\n",
       "      <th>0</th>\n",
       "      <td>110613</td>\n",
       "      <td>ts21930</td>\n",
       "      <td>Kanichi Kurita</td>\n",
       "      <td>Lupin Sansei (voice)</td>\n",
       "      <td>ACTOR</td>\n",
       "      <td>Lupin the Third</td>\n",
       "      <td>SHOW</td>\n",
       "      <td>TV-14</td>\n",
       "      <td>TV-14</td>\n",
       "    </tr>\n",
       "    <tr>\n",
       "      <th>1</th>\n",
       "      <td>11377</td>\n",
       "      <td>ts21930</td>\n",
       "      <td>Daisuke Namikawa</td>\n",
       "      <td>Ishikawa Goemon (voice)</td>\n",
       "      <td>ACTOR</td>\n",
       "      <td>Mobile Suit Gundam</td>\n",
       "      <td>SHOW</td>\n",
       "      <td>TV-Y7</td>\n",
       "      <td>TV-Y7</td>\n",
       "    </tr>\n",
       "    <tr>\n",
       "      <th>2</th>\n",
       "      <td>452</td>\n",
       "      <td>ts21930</td>\n",
       "      <td>Miyuki Sawashiro</td>\n",
       "      <td>Mine Fujiko (voice)</td>\n",
       "      <td>ACTOR</td>\n",
       "      <td>Galaxy Express 999</td>\n",
       "      <td>SHOW</td>\n",
       "      <td>TV-PG</td>\n",
       "      <td>TV-PG</td>\n",
       "    </tr>\n",
       "    <tr>\n",
       "      <th>3</th>\n",
       "      <td>348</td>\n",
       "      <td>ts21930</td>\n",
       "      <td>Akio Otsuka</td>\n",
       "      <td>Daisuke Jigen (voice)</td>\n",
       "      <td>ACTOR</td>\n",
       "      <td>Lupin the 3rd</td>\n",
       "      <td>SHOW</td>\n",
       "      <td>TV-14</td>\n",
       "      <td>TV-14</td>\n",
       "    </tr>\n",
       "    <tr>\n",
       "      <th>4</th>\n",
       "      <td>22311</td>\n",
       "      <td>ts21930</td>\n",
       "      <td>Koichi Yamadera</td>\n",
       "      <td>Zenigata (voice)</td>\n",
       "      <td>ACTOR</td>\n",
       "      <td>Chōdenji Machine Voltes V</td>\n",
       "      <td>SHOW</td>\n",
       "      <td>TV-PG</td>\n",
       "      <td>TV-PG</td>\n",
       "    </tr>\n",
       "  </tbody>\n",
       "</table>\n",
       "</div>"
      ]
     },
     "execution_count": 5,
     "metadata": {},
     "output_type": "execute_result"
    }
   ],
   "execution_count": 5
  },
  {
   "metadata": {
    "ExecuteTime": {
     "end_time": "2024-08-04T07:11:16.288118Z",
     "start_time": "2024-08-04T07:11:16.269619Z"
    }
   },
   "cell_type": "code",
   "source": [
    "animes=animes.merge(credits,on='title')\n",
    "animes.dropna(inplace=True)"
   ],
   "id": "88ac048cc065423",
   "outputs": [],
   "execution_count": 6
  },
  {
   "metadata": {
    "ExecuteTime": {
     "end_time": "2024-08-04T07:11:16.977962Z",
     "start_time": "2024-08-04T07:11:16.974220Z"
    }
   },
   "cell_type": "code",
   "source": "print(animes.columns)",
   "id": "ea8e1945e276b141",
   "outputs": [
    {
     "name": "stdout",
     "output_type": "stream",
     "text": [
      "Index(['id_x', 'title', 'type_x', 'description', 'release_year',\n",
      "       'age_certification_x', 'runtime', 'genres', 'production_countries',\n",
      "       'seasons', 'imdb_id', 'imdb_score', 'imdb_votes', 'tmdb_popularity',\n",
      "       'tmdb_score', 'person_id', 'id_y', 'name', 'character', 'role',\n",
      "       'type_y', 'age_certification_y', 'age_certification.1'],\n",
      "      dtype='object')\n"
     ]
    }
   ],
   "execution_count": 7
  },
  {
   "metadata": {
    "ExecuteTime": {
     "end_time": "2024-08-04T07:11:17.747593Z",
     "start_time": "2024-08-04T07:11:17.742771Z"
    }
   },
   "cell_type": "code",
   "source": "animes=animes[['id_x','title','description','genres']]",
   "id": "97928ac57c4b36ed",
   "outputs": [],
   "execution_count": 8
  },
  {
   "metadata": {
    "ExecuteTime": {
     "end_time": "2024-08-04T07:11:18.410713Z",
     "start_time": "2024-08-04T07:11:18.399169Z"
    }
   },
   "cell_type": "code",
   "source": "animes.head(5)",
   "id": "49ca629ede1dfba3",
   "outputs": [
    {
     "data": {
      "text/plain": [
       "      id_x                         title  \\\n",
       "0  ts21930               Lupin the Third   \n",
       "1  ts25177            Mobile Suit Gundam   \n",
       "2  ts35087            Galaxy Express 999   \n",
       "4   ts2846     Chōdenji Machine Voltes V   \n",
       "5  ts32935  Space Pirate Captain Harlock   \n",
       "\n",
       "                                         description  \\\n",
       "0  Arsene Lupin III is the grandson of the master...   \n",
       "1  Mobile Suit Gundam is a televised anime series...   \n",
       "2  Galaxy Express 999 is a manga written and draw...   \n",
       "4  Chōdenji Machine Voltes V is a Japanese anime ...   \n",
       "5  Follows Captain Harlock, an outcast turned spa...   \n",
       "\n",
       "                                              genres  \n",
       "0  ['scifi', 'animation', 'action', 'comedy', 'cr...  \n",
       "1  ['scifi', 'war', 'animation', 'action', 'drama...  \n",
       "2          ['scifi', 'action', 'drama', 'animation']  \n",
       "4          ['drama', 'action', 'scifi', 'animation']  \n",
       "5  ['action', 'scifi', 'animation', 'drama', 'fan...  "
      ],
      "text/html": [
       "<div>\n",
       "<style scoped>\n",
       "    .dataframe tbody tr th:only-of-type {\n",
       "        vertical-align: middle;\n",
       "    }\n",
       "\n",
       "    .dataframe tbody tr th {\n",
       "        vertical-align: top;\n",
       "    }\n",
       "\n",
       "    .dataframe thead th {\n",
       "        text-align: right;\n",
       "    }\n",
       "</style>\n",
       "<table border=\"1\" class=\"dataframe\">\n",
       "  <thead>\n",
       "    <tr style=\"text-align: right;\">\n",
       "      <th></th>\n",
       "      <th>id_x</th>\n",
       "      <th>title</th>\n",
       "      <th>description</th>\n",
       "      <th>genres</th>\n",
       "    </tr>\n",
       "  </thead>\n",
       "  <tbody>\n",
       "    <tr>\n",
       "      <th>0</th>\n",
       "      <td>ts21930</td>\n",
       "      <td>Lupin the Third</td>\n",
       "      <td>Arsene Lupin III is the grandson of the master...</td>\n",
       "      <td>['scifi', 'animation', 'action', 'comedy', 'cr...</td>\n",
       "    </tr>\n",
       "    <tr>\n",
       "      <th>1</th>\n",
       "      <td>ts25177</td>\n",
       "      <td>Mobile Suit Gundam</td>\n",
       "      <td>Mobile Suit Gundam is a televised anime series...</td>\n",
       "      <td>['scifi', 'war', 'animation', 'action', 'drama...</td>\n",
       "    </tr>\n",
       "    <tr>\n",
       "      <th>2</th>\n",
       "      <td>ts35087</td>\n",
       "      <td>Galaxy Express 999</td>\n",
       "      <td>Galaxy Express 999 is a manga written and draw...</td>\n",
       "      <td>['scifi', 'action', 'drama', 'animation']</td>\n",
       "    </tr>\n",
       "    <tr>\n",
       "      <th>4</th>\n",
       "      <td>ts2846</td>\n",
       "      <td>Chōdenji Machine Voltes V</td>\n",
       "      <td>Chōdenji Machine Voltes V is a Japanese anime ...</td>\n",
       "      <td>['drama', 'action', 'scifi', 'animation']</td>\n",
       "    </tr>\n",
       "    <tr>\n",
       "      <th>5</th>\n",
       "      <td>ts32935</td>\n",
       "      <td>Space Pirate Captain Harlock</td>\n",
       "      <td>Follows Captain Harlock, an outcast turned spa...</td>\n",
       "      <td>['action', 'scifi', 'animation', 'drama', 'fan...</td>\n",
       "    </tr>\n",
       "  </tbody>\n",
       "</table>\n",
       "</div>"
      ]
     },
     "execution_count": 9,
     "metadata": {},
     "output_type": "execute_result"
    }
   ],
   "execution_count": 9
  },
  {
   "metadata": {
    "ExecuteTime": {
     "end_time": "2024-08-04T07:11:19.248717Z",
     "start_time": "2024-08-04T07:11:19.245014Z"
    }
   },
   "cell_type": "code",
   "source": [
    "def convert(text):\n",
    "    if isinstance(text, str):\n",
    "        try:\n",
    "            parsed = ast.literal_eval(text)\n",
    "            if isinstance(parsed, list) and all(isinstance(i, dict) and 'name' in i for i in parsed):\n",
    "                return [i['name'] for i in parsed]\n",
    "            else:\n",
    "                return parsed\n",
    "        except (ValueError, SyntaxError):\n",
    "            return text\n",
    "    return text"
   ],
   "id": "72660b3d9764a825",
   "outputs": [],
   "execution_count": 10
  },
  {
   "metadata": {
    "ExecuteTime": {
     "end_time": "2024-08-04T07:11:20.084571Z",
     "start_time": "2024-08-04T07:11:20.069816Z"
    }
   },
   "cell_type": "code",
   "source": "animes['genres']=animes['genres'].apply(convert)\n",
   "id": "7ea91409981cf053",
   "outputs": [],
   "execution_count": 11
  },
  {
   "metadata": {
    "ExecuteTime": {
     "end_time": "2024-08-04T07:11:20.777272Z",
     "start_time": "2024-08-04T07:11:20.768018Z"
    }
   },
   "cell_type": "code",
   "source": "animes.head(5)",
   "id": "60a54677cd901a9a",
   "outputs": [
    {
     "data": {
      "text/plain": [
       "      id_x                         title  \\\n",
       "0  ts21930               Lupin the Third   \n",
       "1  ts25177            Mobile Suit Gundam   \n",
       "2  ts35087            Galaxy Express 999   \n",
       "4   ts2846     Chōdenji Machine Voltes V   \n",
       "5  ts32935  Space Pirate Captain Harlock   \n",
       "\n",
       "                                         description  \\\n",
       "0  Arsene Lupin III is the grandson of the master...   \n",
       "1  Mobile Suit Gundam is a televised anime series...   \n",
       "2  Galaxy Express 999 is a manga written and draw...   \n",
       "4  Chōdenji Machine Voltes V is a Japanese anime ...   \n",
       "5  Follows Captain Harlock, an outcast turned spa...   \n",
       "\n",
       "                                            genres  \n",
       "0        [scifi, animation, action, comedy, crime]  \n",
       "1  [scifi, war, animation, action, drama, fantasy]  \n",
       "2                [scifi, action, drama, animation]  \n",
       "4                [drama, action, scifi, animation]  \n",
       "5       [action, scifi, animation, drama, fantasy]  "
      ],
      "text/html": [
       "<div>\n",
       "<style scoped>\n",
       "    .dataframe tbody tr th:only-of-type {\n",
       "        vertical-align: middle;\n",
       "    }\n",
       "\n",
       "    .dataframe tbody tr th {\n",
       "        vertical-align: top;\n",
       "    }\n",
       "\n",
       "    .dataframe thead th {\n",
       "        text-align: right;\n",
       "    }\n",
       "</style>\n",
       "<table border=\"1\" class=\"dataframe\">\n",
       "  <thead>\n",
       "    <tr style=\"text-align: right;\">\n",
       "      <th></th>\n",
       "      <th>id_x</th>\n",
       "      <th>title</th>\n",
       "      <th>description</th>\n",
       "      <th>genres</th>\n",
       "    </tr>\n",
       "  </thead>\n",
       "  <tbody>\n",
       "    <tr>\n",
       "      <th>0</th>\n",
       "      <td>ts21930</td>\n",
       "      <td>Lupin the Third</td>\n",
       "      <td>Arsene Lupin III is the grandson of the master...</td>\n",
       "      <td>[scifi, animation, action, comedy, crime]</td>\n",
       "    </tr>\n",
       "    <tr>\n",
       "      <th>1</th>\n",
       "      <td>ts25177</td>\n",
       "      <td>Mobile Suit Gundam</td>\n",
       "      <td>Mobile Suit Gundam is a televised anime series...</td>\n",
       "      <td>[scifi, war, animation, action, drama, fantasy]</td>\n",
       "    </tr>\n",
       "    <tr>\n",
       "      <th>2</th>\n",
       "      <td>ts35087</td>\n",
       "      <td>Galaxy Express 999</td>\n",
       "      <td>Galaxy Express 999 is a manga written and draw...</td>\n",
       "      <td>[scifi, action, drama, animation]</td>\n",
       "    </tr>\n",
       "    <tr>\n",
       "      <th>4</th>\n",
       "      <td>ts2846</td>\n",
       "      <td>Chōdenji Machine Voltes V</td>\n",
       "      <td>Chōdenji Machine Voltes V is a Japanese anime ...</td>\n",
       "      <td>[drama, action, scifi, animation]</td>\n",
       "    </tr>\n",
       "    <tr>\n",
       "      <th>5</th>\n",
       "      <td>ts32935</td>\n",
       "      <td>Space Pirate Captain Harlock</td>\n",
       "      <td>Follows Captain Harlock, an outcast turned spa...</td>\n",
       "      <td>[action, scifi, animation, drama, fantasy]</td>\n",
       "    </tr>\n",
       "  </tbody>\n",
       "</table>\n",
       "</div>"
      ]
     },
     "execution_count": 12,
     "metadata": {},
     "output_type": "execute_result"
    }
   ],
   "execution_count": 12
  },
  {
   "metadata": {
    "ExecuteTime": {
     "end_time": "2024-08-04T07:11:21.539503Z",
     "start_time": "2024-08-04T07:11:21.534019Z"
    }
   },
   "cell_type": "code",
   "source": "animes['description']=animes['description'].apply(lambda x: x.split())",
   "id": "42548043af4ccc17",
   "outputs": [],
   "execution_count": 13
  },
  {
   "metadata": {
    "ExecuteTime": {
     "end_time": "2024-08-04T07:11:22.309898Z",
     "start_time": "2024-08-04T07:11:22.301022Z"
    }
   },
   "cell_type": "code",
   "source": "animes.head(5)",
   "id": "b87522e072c343f1",
   "outputs": [
    {
     "data": {
      "text/plain": [
       "      id_x                         title  \\\n",
       "0  ts21930               Lupin the Third   \n",
       "1  ts25177            Mobile Suit Gundam   \n",
       "2  ts35087            Galaxy Express 999   \n",
       "4   ts2846     Chōdenji Machine Voltes V   \n",
       "5  ts32935  Space Pirate Captain Harlock   \n",
       "\n",
       "                                         description  \\\n",
       "0  [Arsene, Lupin, III, is, the, grandson, of, th...   \n",
       "1  [Mobile, Suit, Gundam, is, a, televised, anime...   \n",
       "2  [Galaxy, Express, 999, is, a, manga, written, ...   \n",
       "4  [Chōdenji, Machine, Voltes, V, is, a, Japanese...   \n",
       "5  [Follows, Captain, Harlock,, an, outcast, turn...   \n",
       "\n",
       "                                            genres  \n",
       "0        [scifi, animation, action, comedy, crime]  \n",
       "1  [scifi, war, animation, action, drama, fantasy]  \n",
       "2                [scifi, action, drama, animation]  \n",
       "4                [drama, action, scifi, animation]  \n",
       "5       [action, scifi, animation, drama, fantasy]  "
      ],
      "text/html": [
       "<div>\n",
       "<style scoped>\n",
       "    .dataframe tbody tr th:only-of-type {\n",
       "        vertical-align: middle;\n",
       "    }\n",
       "\n",
       "    .dataframe tbody tr th {\n",
       "        vertical-align: top;\n",
       "    }\n",
       "\n",
       "    .dataframe thead th {\n",
       "        text-align: right;\n",
       "    }\n",
       "</style>\n",
       "<table border=\"1\" class=\"dataframe\">\n",
       "  <thead>\n",
       "    <tr style=\"text-align: right;\">\n",
       "      <th></th>\n",
       "      <th>id_x</th>\n",
       "      <th>title</th>\n",
       "      <th>description</th>\n",
       "      <th>genres</th>\n",
       "    </tr>\n",
       "  </thead>\n",
       "  <tbody>\n",
       "    <tr>\n",
       "      <th>0</th>\n",
       "      <td>ts21930</td>\n",
       "      <td>Lupin the Third</td>\n",
       "      <td>[Arsene, Lupin, III, is, the, grandson, of, th...</td>\n",
       "      <td>[scifi, animation, action, comedy, crime]</td>\n",
       "    </tr>\n",
       "    <tr>\n",
       "      <th>1</th>\n",
       "      <td>ts25177</td>\n",
       "      <td>Mobile Suit Gundam</td>\n",
       "      <td>[Mobile, Suit, Gundam, is, a, televised, anime...</td>\n",
       "      <td>[scifi, war, animation, action, drama, fantasy]</td>\n",
       "    </tr>\n",
       "    <tr>\n",
       "      <th>2</th>\n",
       "      <td>ts35087</td>\n",
       "      <td>Galaxy Express 999</td>\n",
       "      <td>[Galaxy, Express, 999, is, a, manga, written, ...</td>\n",
       "      <td>[scifi, action, drama, animation]</td>\n",
       "    </tr>\n",
       "    <tr>\n",
       "      <th>4</th>\n",
       "      <td>ts2846</td>\n",
       "      <td>Chōdenji Machine Voltes V</td>\n",
       "      <td>[Chōdenji, Machine, Voltes, V, is, a, Japanese...</td>\n",
       "      <td>[drama, action, scifi, animation]</td>\n",
       "    </tr>\n",
       "    <tr>\n",
       "      <th>5</th>\n",
       "      <td>ts32935</td>\n",
       "      <td>Space Pirate Captain Harlock</td>\n",
       "      <td>[Follows, Captain, Harlock,, an, outcast, turn...</td>\n",
       "      <td>[action, scifi, animation, drama, fantasy]</td>\n",
       "    </tr>\n",
       "  </tbody>\n",
       "</table>\n",
       "</div>"
      ]
     },
     "execution_count": 14,
     "metadata": {},
     "output_type": "execute_result"
    }
   ],
   "execution_count": 14
  },
  {
   "metadata": {
    "ExecuteTime": {
     "end_time": "2024-08-04T07:11:22.939781Z",
     "start_time": "2024-08-04T07:11:22.936193Z"
    }
   },
   "cell_type": "code",
   "source": [
    "def collapse(text):\n",
    "    l1=[]\n",
    "    for i in text:\n",
    "        l1.append(i.replace(' ',''))\n",
    "    return l1"
   ],
   "id": "13961542914ee554",
   "outputs": [],
   "execution_count": 15
  },
  {
   "metadata": {
    "ExecuteTime": {
     "end_time": "2024-08-04T07:11:23.640216Z",
     "start_time": "2024-08-04T07:11:23.633409Z"
    }
   },
   "cell_type": "code",
   "source": [
    "animes['description']=animes['description'].apply(collapse)\n",
    "animes['genres']=animes['genres'].apply(collapse)"
   ],
   "id": "e5789f0fe117151e",
   "outputs": [],
   "execution_count": 16
  },
  {
   "metadata": {
    "ExecuteTime": {
     "end_time": "2024-08-04T07:11:24.266711Z",
     "start_time": "2024-08-04T07:11:24.261577Z"
    }
   },
   "cell_type": "code",
   "source": "animes['tags']=animes['description']+animes['genres']",
   "id": "c980b679bf0317e9",
   "outputs": [],
   "execution_count": 17
  },
  {
   "metadata": {
    "ExecuteTime": {
     "end_time": "2024-08-04T07:11:24.774117Z",
     "start_time": "2024-08-04T07:11:24.771199Z"
    }
   },
   "cell_type": "code",
   "source": "new=animes.drop(columns=['genres','description'])",
   "id": "9a66f9558fd9a823",
   "outputs": [],
   "execution_count": 18
  },
  {
   "metadata": {
    "ExecuteTime": {
     "end_time": "2024-08-04T07:11:25.302286Z",
     "start_time": "2024-08-04T07:11:25.294259Z"
    }
   },
   "cell_type": "code",
   "source": "new.head(5)",
   "id": "8876a67ce040a859",
   "outputs": [
    {
     "data": {
      "text/plain": [
       "      id_x                         title  \\\n",
       "0  ts21930               Lupin the Third   \n",
       "1  ts25177            Mobile Suit Gundam   \n",
       "2  ts35087            Galaxy Express 999   \n",
       "4   ts2846     Chōdenji Machine Voltes V   \n",
       "5  ts32935  Space Pirate Captain Harlock   \n",
       "\n",
       "                                                tags  \n",
       "0  [Arsene, Lupin, III, is, the, grandson, of, th...  \n",
       "1  [Mobile, Suit, Gundam, is, a, televised, anime...  \n",
       "2  [Galaxy, Express, 999, is, a, manga, written, ...  \n",
       "4  [Chōdenji, Machine, Voltes, V, is, a, Japanese...  \n",
       "5  [Follows, Captain, Harlock,, an, outcast, turn...  "
      ],
      "text/html": [
       "<div>\n",
       "<style scoped>\n",
       "    .dataframe tbody tr th:only-of-type {\n",
       "        vertical-align: middle;\n",
       "    }\n",
       "\n",
       "    .dataframe tbody tr th {\n",
       "        vertical-align: top;\n",
       "    }\n",
       "\n",
       "    .dataframe thead th {\n",
       "        text-align: right;\n",
       "    }\n",
       "</style>\n",
       "<table border=\"1\" class=\"dataframe\">\n",
       "  <thead>\n",
       "    <tr style=\"text-align: right;\">\n",
       "      <th></th>\n",
       "      <th>id_x</th>\n",
       "      <th>title</th>\n",
       "      <th>tags</th>\n",
       "    </tr>\n",
       "  </thead>\n",
       "  <tbody>\n",
       "    <tr>\n",
       "      <th>0</th>\n",
       "      <td>ts21930</td>\n",
       "      <td>Lupin the Third</td>\n",
       "      <td>[Arsene, Lupin, III, is, the, grandson, of, th...</td>\n",
       "    </tr>\n",
       "    <tr>\n",
       "      <th>1</th>\n",
       "      <td>ts25177</td>\n",
       "      <td>Mobile Suit Gundam</td>\n",
       "      <td>[Mobile, Suit, Gundam, is, a, televised, anime...</td>\n",
       "    </tr>\n",
       "    <tr>\n",
       "      <th>2</th>\n",
       "      <td>ts35087</td>\n",
       "      <td>Galaxy Express 999</td>\n",
       "      <td>[Galaxy, Express, 999, is, a, manga, written, ...</td>\n",
       "    </tr>\n",
       "    <tr>\n",
       "      <th>4</th>\n",
       "      <td>ts2846</td>\n",
       "      <td>Chōdenji Machine Voltes V</td>\n",
       "      <td>[Chōdenji, Machine, Voltes, V, is, a, Japanese...</td>\n",
       "    </tr>\n",
       "    <tr>\n",
       "      <th>5</th>\n",
       "      <td>ts32935</td>\n",
       "      <td>Space Pirate Captain Harlock</td>\n",
       "      <td>[Follows, Captain, Harlock,, an, outcast, turn...</td>\n",
       "    </tr>\n",
       "  </tbody>\n",
       "</table>\n",
       "</div>"
      ]
     },
     "execution_count": 19,
     "metadata": {},
     "output_type": "execute_result"
    }
   ],
   "execution_count": 19
  },
  {
   "metadata": {
    "ExecuteTime": {
     "end_time": "2024-08-04T07:11:26.031205Z",
     "start_time": "2024-08-04T07:11:26.026701Z"
    }
   },
   "cell_type": "code",
   "source": "new['tags']=new['tags'].apply(lambda x: \" \".join(x))",
   "id": "973b6bd48e32019f",
   "outputs": [],
   "execution_count": 20
  },
  {
   "metadata": {
    "ExecuteTime": {
     "end_time": "2024-08-04T07:11:26.509545Z",
     "start_time": "2024-08-04T07:11:26.502654Z"
    }
   },
   "cell_type": "code",
   "source": "new.head(5)",
   "id": "2881c43fd416e372",
   "outputs": [
    {
     "data": {
      "text/plain": [
       "      id_x                         title  \\\n",
       "0  ts21930               Lupin the Third   \n",
       "1  ts25177            Mobile Suit Gundam   \n",
       "2  ts35087            Galaxy Express 999   \n",
       "4   ts2846     Chōdenji Machine Voltes V   \n",
       "5  ts32935  Space Pirate Captain Harlock   \n",
       "\n",
       "                                                tags  \n",
       "0  Arsene Lupin III is the grandson of the master...  \n",
       "1  Mobile Suit Gundam is a televised anime series...  \n",
       "2  Galaxy Express 999 is a manga written and draw...  \n",
       "4  Chōdenji Machine Voltes V is a Japanese anime ...  \n",
       "5  Follows Captain Harlock, an outcast turned spa...  "
      ],
      "text/html": [
       "<div>\n",
       "<style scoped>\n",
       "    .dataframe tbody tr th:only-of-type {\n",
       "        vertical-align: middle;\n",
       "    }\n",
       "\n",
       "    .dataframe tbody tr th {\n",
       "        vertical-align: top;\n",
       "    }\n",
       "\n",
       "    .dataframe thead th {\n",
       "        text-align: right;\n",
       "    }\n",
       "</style>\n",
       "<table border=\"1\" class=\"dataframe\">\n",
       "  <thead>\n",
       "    <tr style=\"text-align: right;\">\n",
       "      <th></th>\n",
       "      <th>id_x</th>\n",
       "      <th>title</th>\n",
       "      <th>tags</th>\n",
       "    </tr>\n",
       "  </thead>\n",
       "  <tbody>\n",
       "    <tr>\n",
       "      <th>0</th>\n",
       "      <td>ts21930</td>\n",
       "      <td>Lupin the Third</td>\n",
       "      <td>Arsene Lupin III is the grandson of the master...</td>\n",
       "    </tr>\n",
       "    <tr>\n",
       "      <th>1</th>\n",
       "      <td>ts25177</td>\n",
       "      <td>Mobile Suit Gundam</td>\n",
       "      <td>Mobile Suit Gundam is a televised anime series...</td>\n",
       "    </tr>\n",
       "    <tr>\n",
       "      <th>2</th>\n",
       "      <td>ts35087</td>\n",
       "      <td>Galaxy Express 999</td>\n",
       "      <td>Galaxy Express 999 is a manga written and draw...</td>\n",
       "    </tr>\n",
       "    <tr>\n",
       "      <th>4</th>\n",
       "      <td>ts2846</td>\n",
       "      <td>Chōdenji Machine Voltes V</td>\n",
       "      <td>Chōdenji Machine Voltes V is a Japanese anime ...</td>\n",
       "    </tr>\n",
       "    <tr>\n",
       "      <th>5</th>\n",
       "      <td>ts32935</td>\n",
       "      <td>Space Pirate Captain Harlock</td>\n",
       "      <td>Follows Captain Harlock, an outcast turned spa...</td>\n",
       "    </tr>\n",
       "  </tbody>\n",
       "</table>\n",
       "</div>"
      ]
     },
     "execution_count": 21,
     "metadata": {},
     "output_type": "execute_result"
    }
   ],
   "execution_count": 21
  },
  {
   "metadata": {
    "ExecuteTime": {
     "end_time": "2024-08-04T07:11:27.201064Z",
     "start_time": "2024-08-04T07:11:27.199194Z"
    }
   },
   "cell_type": "code",
   "source": "#modelo de machine learning",
   "id": "ec874e5e21bbb84b",
   "outputs": [],
   "execution_count": 22
  },
  {
   "metadata": {
    "ExecuteTime": {
     "end_time": "2024-08-04T07:11:28.387260Z",
     "start_time": "2024-08-04T07:11:27.724394Z"
    }
   },
   "cell_type": "code",
   "source": [
    "from sklearn.feature_extraction.text import CountVectorizer\n",
    "cv=CountVectorizer(max_features=500, stop_words='english')\n"
   ],
   "id": "c346843591d211f2",
   "outputs": [],
   "execution_count": 23
  },
  {
   "metadata": {
    "ExecuteTime": {
     "end_time": "2024-08-04T07:11:28.918186Z",
     "start_time": "2024-08-04T07:11:28.882863Z"
    }
   },
   "cell_type": "code",
   "source": "vector=cv.fit_transform(new['tags']).toarray()",
   "id": "1c29f018d80e06c2",
   "outputs": [],
   "execution_count": 24
  },
  {
   "metadata": {
    "ExecuteTime": {
     "end_time": "2024-08-04T07:11:29.370517Z",
     "start_time": "2024-08-04T07:11:29.366184Z"
    }
   },
   "cell_type": "code",
   "source": "vector.shape",
   "id": "df27ca3ae77095d3",
   "outputs": [
    {
     "data": {
      "text/plain": [
       "(554, 500)"
      ]
     },
     "execution_count": 25,
     "metadata": {},
     "output_type": "execute_result"
    }
   ],
   "execution_count": 25
  },
  {
   "metadata": {
    "ExecuteTime": {
     "end_time": "2024-08-04T07:11:30.136994Z",
     "start_time": "2024-08-04T07:11:30.057993Z"
    }
   },
   "cell_type": "code",
   "source": [
    "from sklearn.metrics.pairwise import cosine_similarity\n",
    "similarity=cosine_similarity(vector)\n",
    "similarity"
   ],
   "id": "14bf057b563ca6d6",
   "outputs": [
    {
     "data": {
      "text/plain": [
       "array([[1.        , 0.18463724, 0.15811388, ..., 0.24333213, 0.15811388,\n",
       "        0.28867513],\n",
       "       [0.18463724, 1.        , 0.33734954, ..., 0.15974461, 0.03892495,\n",
       "        0.07106691],\n",
       "       [0.15811388, 0.33734954, 1.        , ..., 0.10259784, 0.03333333,\n",
       "        0.06085806],\n",
       "       ...,\n",
       "       [0.24333213, 0.15974461, 0.10259784, ..., 1.        , 0.05129892,\n",
       "        0.18731716],\n",
       "       [0.15811388, 0.03892495, 0.03333333, ..., 0.05129892, 1.        ,\n",
       "        0.27386128],\n",
       "       [0.28867513, 0.07106691, 0.06085806, ..., 0.18731716, 0.27386128,\n",
       "        1.        ]])"
      ]
     },
     "execution_count": 26,
     "metadata": {},
     "output_type": "execute_result"
    }
   ],
   "execution_count": 26
  },
  {
   "metadata": {},
   "cell_type": "markdown",
   "source": "",
   "id": "81d5614bfed097be"
  },
  {
   "metadata": {
    "ExecuteTime": {
     "end_time": "2024-08-04T07:11:31.668877Z",
     "start_time": "2024-08-04T07:11:31.664152Z"
    }
   },
   "cell_type": "code",
   "source": [
    "# Check for similar titles\n",
    "similar_titles = new[new['title']=='Ninja Nonsense'].index[0]\n",
    "print(similar_titles)"
   ],
   "id": "50907efd449cf752",
   "outputs": [
    {
     "name": "stdout",
     "output_type": "stream",
     "text": [
      "227\n"
     ]
    }
   ],
   "execution_count": 27
  },
  {
   "metadata": {
    "ExecuteTime": {
     "end_time": "2024-08-04T07:11:32.400222Z",
     "start_time": "2024-08-04T07:11:32.395604Z"
    }
   },
   "cell_type": "code",
   "source": [
    "def recommended(animes):\n",
    "    index=new[new['title']==animes].index[0]\n",
    "    distances=sorted(list(enumerate(similarity[index])) ,reverse=True, key=lambda x:x[1])\n",
    "    \n",
    "    for i in distances[1:10]:\n",
    "        print(new.iloc[i[0]].title)"
   ],
   "id": "715a1c6f2d74d60c",
   "outputs": [],
   "execution_count": 28
  },
  {
   "metadata": {
    "ExecuteTime": {
     "end_time": "2024-08-04T07:11:33.075138Z",
     "start_time": "2024-08-04T07:11:33.069710Z"
    }
   },
   "cell_type": "code",
   "source": [
    "print('recomendacion basada en Ninja Nonsense\\n')\n",
    "recommended(\"Yu-Gi-Oh! GX\")"
   ],
   "id": "f1dcb9e820204200",
   "outputs": [
    {
     "name": "stdout",
     "output_type": "stream",
     "text": [
      "recomendacion basada en Ninja Nonsense\n",
      "\n",
      "Blade Runner: Black Lotus\n",
      "Back Arrow\n",
      "FLCL\n",
      "Princess Connect! Re:Dive\n",
      "My Next Life as a Villainess: All Routes Lead to Doom!\n",
      "DEATH NOTE\n",
      "Gurren Lagann\n",
      "Yu-Gi-Oh!\n",
      "The Rising of the Shield Hero\n"
     ]
    }
   ],
   "execution_count": 29
  },
  {
   "metadata": {
    "ExecuteTime": {
     "end_time": "2024-08-04T07:11:33.586084Z",
     "start_time": "2024-08-04T07:11:33.576507Z"
    }
   },
   "cell_type": "code",
   "source": [
    "import pickle\n",
    "pickle.dump(new,open('animes_list.pkl','wb'))\n",
    "pickle.dump(similarity,open('similarity.pkl','wb'))"
   ],
   "id": "5052f43df4c0fbe6",
   "outputs": [],
   "execution_count": 30
  },
  {
   "metadata": {
    "ExecuteTime": {
     "end_time": "2024-08-04T07:11:34.095641Z",
     "start_time": "2024-08-04T07:11:34.091617Z"
    }
   },
   "cell_type": "code",
   "source": "animess_list=pickle.load(open('animes_list.pkl','rb'))",
   "id": "a30373f13cf6e51f",
   "outputs": [],
   "execution_count": 31
  },
  {
   "metadata": {
    "ExecuteTime": {
     "end_time": "2024-08-04T07:11:56.554746Z",
     "start_time": "2024-08-04T07:11:56.545741Z"
    }
   },
   "cell_type": "code",
   "source": "animess_list.head(2)",
   "id": "16aaf2847d54088",
   "outputs": [
    {
     "data": {
      "text/plain": [
       "      id_x               title  \\\n",
       "0  ts21930     Lupin the Third   \n",
       "1  ts25177  Mobile Suit Gundam   \n",
       "\n",
       "                                                                                                                                                                                                                                                                                                                                                                                                                                                                                                                                                                                                                                                                                                                        tags  \n",
       "0                                                                                                                                                                                                                                                                                                                                                                                                               Arsene Lupin III is the grandson of the master thief Arsene Lupin. With his cohorts Daisuke Jigen and Goemon Ishikawa XIII and his love interest Fujiko Mine, he pulls off the greatest heists of all time while always escaping the grasp of Inspector Koichi Zenigata. scifi animation action comedy crime  \n",
       "1  Mobile Suit Gundam is a televised anime series, produced by Sunrise. Created and directed by Yoshiyuki Tomino, it premiered in Japan on Nagoya Broadcasting Network on April 7, 1979, and lasted until January 26, 1980, spanning 43 episodes. It was the very first Gundam series, which has subsequently been adapted into numerous sequels and spin-offs. In 1981, the series was re-edited for theatrical release and split into three movies. The characters were designed by Yoshikazu Yasuhiko, and Kunio Okawara was responsible for the mechanical designs, including the eponymous giant robot, the RX-78-2 Gundam. The first movie was released on February 22, 1981. scifi war animation action drama fantasy  "
      ],
      "text/html": [
       "<div>\n",
       "<style scoped>\n",
       "    .dataframe tbody tr th:only-of-type {\n",
       "        vertical-align: middle;\n",
       "    }\n",
       "\n",
       "    .dataframe tbody tr th {\n",
       "        vertical-align: top;\n",
       "    }\n",
       "\n",
       "    .dataframe thead th {\n",
       "        text-align: right;\n",
       "    }\n",
       "</style>\n",
       "<table border=\"1\" class=\"dataframe\">\n",
       "  <thead>\n",
       "    <tr style=\"text-align: right;\">\n",
       "      <th></th>\n",
       "      <th>id_x</th>\n",
       "      <th>title</th>\n",
       "      <th>tags</th>\n",
       "    </tr>\n",
       "  </thead>\n",
       "  <tbody>\n",
       "    <tr>\n",
       "      <th>0</th>\n",
       "      <td>ts21930</td>\n",
       "      <td>Lupin the Third</td>\n",
       "      <td>Arsene Lupin III is the grandson of the master thief Arsene Lupin. With his cohorts Daisuke Jigen and Goemon Ishikawa XIII and his love interest Fujiko Mine, he pulls off the greatest heists of all time while always escaping the grasp of Inspector Koichi Zenigata. scifi animation action comedy crime</td>\n",
       "    </tr>\n",
       "    <tr>\n",
       "      <th>1</th>\n",
       "      <td>ts25177</td>\n",
       "      <td>Mobile Suit Gundam</td>\n",
       "      <td>Mobile Suit Gundam is a televised anime series, produced by Sunrise. Created and directed by Yoshiyuki Tomino, it premiered in Japan on Nagoya Broadcasting Network on April 7, 1979, and lasted until January 26, 1980, spanning 43 episodes. It was the very first Gundam series, which has subsequently been adapted into numerous sequels and spin-offs. In 1981, the series was re-edited for theatrical release and split into three movies. The characters were designed by Yoshikazu Yasuhiko, and Kunio Okawara was responsible for the mechanical designs, including the eponymous giant robot, the RX-78-2 Gundam. The first movie was released on February 22, 1981. scifi war animation action drama fantasy</td>\n",
       "    </tr>\n",
       "  </tbody>\n",
       "</table>\n",
       "</div>"
      ]
     },
     "execution_count": 43,
     "metadata": {},
     "output_type": "execute_result"
    }
   ],
   "execution_count": 43
  },
  {
   "metadata": {
    "ExecuteTime": {
     "end_time": "2024-08-04T07:11:35.419685Z",
     "start_time": "2024-08-04T07:11:35.416273Z"
    }
   },
   "cell_type": "code",
   "source": [
    "generos=animes[['id_x','title','genres']]\n",
    "generos=pd.DataFrame(generos)\n",
    "print(type(generos))"
   ],
   "id": "18e0ea2c9e1b6397",
   "outputs": [
    {
     "name": "stdout",
     "output_type": "stream",
     "text": [
      "<class 'pandas.core.frame.DataFrame'>\n"
     ]
    }
   ],
   "execution_count": 33
  },
  {
   "metadata": {
    "ExecuteTime": {
     "end_time": "2024-08-04T07:11:36.101800Z",
     "start_time": "2024-08-04T07:11:36.080148Z"
    }
   },
   "cell_type": "code",
   "source": [
    "# Codificar los géneros usando one-hot encoding\n",
    "\n",
    "genres_df = generos['genres'].str.get_dummies(sep=',')"
   ],
   "id": "d68ed38cefc1b3f7",
   "outputs": [],
   "execution_count": 34
  },
  {
   "metadata": {
    "ExecuteTime": {
     "end_time": "2024-08-04T07:11:36.665643Z",
     "start_time": "2024-08-04T07:11:36.659109Z"
    }
   },
   "cell_type": "code",
   "source": [
    "# Normalizar los datos de géneros\n",
    "\n",
    "from sklearn.preprocessing import StandardScaler\n",
    "scaler = StandardScaler()\n",
    "genres_scaled = scaler.fit_transform(genres_df)\n"
   ],
   "id": "62d04629971736a2",
   "outputs": [],
   "execution_count": 35
  },
  {
   "metadata": {
    "ExecuteTime": {
     "end_time": "2024-08-04T07:11:37.268593Z",
     "start_time": "2024-08-04T07:11:37.257905Z"
    }
   },
   "cell_type": "code",
   "source": [
    "# Crear una matriz de similitud entre las películas\n",
    "\n",
    "similarity_matrix = cosine_similarity(genres_scaled)\n",
    "similarity_matrix"
   ],
   "id": "51a4326f8567eab8",
   "outputs": [
    {
     "data": {
      "text/plain": [
       "array([[ 1.        ,  0.03952308,  0.06227688, ..., -0.06443608,\n",
       "        -0.09982939, -0.01629808],\n",
       "       [ 0.03952308,  1.        ,  0.20612535, ...,  0.05806707,\n",
       "        -0.19782678, -0.04164244],\n",
       "       [ 0.06227688,  0.20612535,  1.        , ..., -0.35761454,\n",
       "         0.18889504, -0.11942224],\n",
       "       ...,\n",
       "       [-0.06443608,  0.05806707, -0.35761454, ...,  1.        ,\n",
       "        -0.18654644, -0.00959476],\n",
       "       [-0.09982939, -0.19782678,  0.18889504, ..., -0.18654644,\n",
       "         1.        ,  0.15565882],\n",
       "       [-0.01629808, -0.04164244, -0.11942224, ..., -0.00959476,\n",
       "         0.15565882,  1.        ]])"
      ]
     },
     "execution_count": 36,
     "metadata": {},
     "output_type": "execute_result"
    }
   ],
   "execution_count": 36
  },
  {
   "metadata": {
    "ExecuteTime": {
     "end_time": "2024-08-04T07:11:37.736922Z",
     "start_time": "2024-08-04T07:11:37.732497Z"
    }
   },
   "cell_type": "code",
   "source": [
    "# Función para recomendar películas basadas en una película dada\n",
    "\n",
    "def recommend_movies(movie_title, movies_df, similarity_matrix):\n",
    "    movie_idx = movies_df[movies_df['title'] == movie_title].index[0]\n",
    "    similarity_scores = list(enumerate(similarity_matrix[movie_idx]))\n",
    "    similarity_scores = sorted(similarity_scores, key=lambda x: x[1], reverse=True)\n",
    "    movie_indices = [i[0] for i in similarity_scores[1:]]  # Excluir la película en sí misma\n",
    "    \n",
    "    for i in movie_indices[:10]:\n",
    "        print(movies_df.iloc[i]['title'])"
   ],
   "id": "7ab2851b42fe8cf7",
   "outputs": [],
   "execution_count": 37
  },
  {
   "metadata": {
    "ExecuteTime": {
     "end_time": "2024-08-04T07:11:38.928343Z",
     "start_time": "2024-08-04T07:11:38.923577Z"
    }
   },
   "cell_type": "code",
   "source": [
    "print('recomendacion basada en Yu-Gi-Oh! GX\\n')\n",
    "recommended = recommend_movies('Yu-Gi-Oh! GX', generos, similarity_matrix)"
   ],
   "id": "6949f08861a00681",
   "outputs": [
    {
     "name": "stdout",
     "output_type": "stream",
     "text": [
      "recomendacion basada en Yu-Gi-Oh! GX\n",
      "\n",
      "Nagi-Asu: A Lull in the Sea\n",
      "Snow White with the Red Hair\n",
      "World's End Harem\n",
      "My Next Life as a Villainess: All Routes Lead to Doom!\n",
      "The World God Only Knows\n",
      "Ouran High School Host Club\n",
      "Oreimo\n",
      "My Teen Romantic Comedy SNAFU\n",
      "Magical Sempai\n",
      "The Helpful Fox Senko-san\n"
     ]
    }
   ],
   "execution_count": 38
  },
  {
   "metadata": {
    "ExecuteTime": {
     "end_time": "2024-08-04T07:11:39.751741Z",
     "start_time": "2024-08-04T07:11:39.744240Z"
    }
   },
   "cell_type": "code",
   "source": [
    "pickle.dump(generos, open('genres_filter.pkl','wb'))\n",
    "pickle.dump(similarity_matrix, open('similarity_genres.pkl','wb'))"
   ],
   "id": "5d25b2e4611cd70e",
   "outputs": [],
   "execution_count": 39
  },
  {
   "metadata": {
    "ExecuteTime": {
     "end_time": "2024-08-04T07:11:40.282919Z",
     "start_time": "2024-08-04T07:11:40.278862Z"
    }
   },
   "cell_type": "code",
   "source": "genres_recommended=pickle.load(open('genres_filter.pkl','rb'))",
   "id": "3725797d6f8c8b61",
   "outputs": [],
   "execution_count": 40
  },
  {
   "metadata": {
    "ExecuteTime": {
     "end_time": "2024-08-04T07:11:41.118916Z",
     "start_time": "2024-08-04T07:11:41.112434Z"
    }
   },
   "cell_type": "code",
   "source": "genres_recommended.head(3)",
   "id": "daad5ce86fd5cf03",
   "outputs": [
    {
     "data": {
      "text/plain": [
       "      id_x               title  \\\n",
       "0  ts21930     Lupin the Third   \n",
       "1  ts25177  Mobile Suit Gundam   \n",
       "2  ts35087  Galaxy Express 999   \n",
       "\n",
       "                                            genres  \n",
       "0        [scifi, animation, action, comedy, crime]  \n",
       "1  [scifi, war, animation, action, drama, fantasy]  \n",
       "2                [scifi, action, drama, animation]  "
      ],
      "text/html": [
       "<div>\n",
       "<style scoped>\n",
       "    .dataframe tbody tr th:only-of-type {\n",
       "        vertical-align: middle;\n",
       "    }\n",
       "\n",
       "    .dataframe tbody tr th {\n",
       "        vertical-align: top;\n",
       "    }\n",
       "\n",
       "    .dataframe thead th {\n",
       "        text-align: right;\n",
       "    }\n",
       "</style>\n",
       "<table border=\"1\" class=\"dataframe\">\n",
       "  <thead>\n",
       "    <tr style=\"text-align: right;\">\n",
       "      <th></th>\n",
       "      <th>id_x</th>\n",
       "      <th>title</th>\n",
       "      <th>genres</th>\n",
       "    </tr>\n",
       "  </thead>\n",
       "  <tbody>\n",
       "    <tr>\n",
       "      <th>0</th>\n",
       "      <td>ts21930</td>\n",
       "      <td>Lupin the Third</td>\n",
       "      <td>[scifi, animation, action, comedy, crime]</td>\n",
       "    </tr>\n",
       "    <tr>\n",
       "      <th>1</th>\n",
       "      <td>ts25177</td>\n",
       "      <td>Mobile Suit Gundam</td>\n",
       "      <td>[scifi, war, animation, action, drama, fantasy]</td>\n",
       "    </tr>\n",
       "    <tr>\n",
       "      <th>2</th>\n",
       "      <td>ts35087</td>\n",
       "      <td>Galaxy Express 999</td>\n",
       "      <td>[scifi, action, drama, animation]</td>\n",
       "    </tr>\n",
       "  </tbody>\n",
       "</table>\n",
       "</div>"
      ]
     },
     "execution_count": 41,
     "metadata": {},
     "output_type": "execute_result"
    }
   ],
   "execution_count": 41
  },
  {
   "metadata": {},
   "cell_type": "code",
   "outputs": [],
   "execution_count": null,
   "source": "",
   "id": "f9ce5ad43c1c92"
  }
 ],
 "metadata": {
  "kernelspec": {
   "display_name": "Python 3",
   "language": "python",
   "name": "python3"
  },
  "language_info": {
   "codemirror_mode": {
    "name": "ipython",
    "version": 2
   },
   "file_extension": ".py",
   "mimetype": "text/x-python",
   "name": "python",
   "nbconvert_exporter": "python",
   "pygments_lexer": "ipython2",
   "version": "2.7.6"
  }
 },
 "nbformat": 4,
 "nbformat_minor": 5
}
